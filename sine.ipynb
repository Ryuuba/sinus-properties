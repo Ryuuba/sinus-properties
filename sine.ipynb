{
 "cells": [
  {
   "cell_type": "markdown",
   "metadata": {},
   "source": [
    "# Propiedades de las señales senoidales\n",
    "\n",
    "En este *notebook* se explicará de manera interactiva las propiedades de las señales senoidales según Comer.\n",
    "\n",
    "Una señal senoidal es un modelo matemático que se representa de la siguiente manera: $Asin(2\\pi ft + \\phi)$. Los parámetros de la función senoidal son estos, $A$ es el parámetro que indica la amplitud de la señal, $f$ es la frecuencia de la señal y $\\phi$ es la fase. La variable $t$ del modelo representa el tiempo.\n",
    "\n",
    "La siguiente imagen muestra una señal senoidal con parámetros $A = 1$, $f = 1$ y $\\phi = 1$. La gráfica presenta la señal senoidal en el rango $[0, 2\\pi]$.\n",
    "\n",
    "En las siguientes secciones de este *notebook* se explican cada una de las propiedades de la señal senoidal."
   ]
  },
  {
   "cell_type": "code",
   "execution_count": 1,
   "metadata": {},
   "outputs": [
    {
     "ename": "NameError",
     "evalue": "name 'x' is not defined",
     "output_type": "error",
     "traceback": [
      "\u001b[1;31m---------------------------------------------------------------------------\u001b[0m",
      "\u001b[1;31mNameError\u001b[0m                                 Traceback (most recent call last)",
      "\u001b[1;32mc:\\Users\\amedr\\sinus-properties\\sine.ipynb Cell 2\u001b[0m in \u001b[0;36m<cell line: 19>\u001b[1;34m()\u001b[0m\n\u001b[0;32m     <a href='vscode-notebook-cell:/c%3A/Users/amedr/sinus-properties/sine.ipynb#W1sZmlsZQ%3D%3D?line=15'>16</a>\u001b[0m step \u001b[39m=\u001b[39m \u001b[39m0.01\u001b[39m\n\u001b[0;32m     <a href='vscode-notebook-cell:/c%3A/Users/amedr/sinus-properties/sine.ipynb#W1sZmlsZQ%3D%3D?line=17'>18</a>\u001b[0m \u001b[39m# x = np.arange(x_min, x_max, step)\u001b[39;00m\n\u001b[1;32m---> <a href='vscode-notebook-cell:/c%3A/Users/amedr/sinus-properties/sine.ipynb#W1sZmlsZQ%3D%3D?line=18'>19</a>\u001b[0m x \u001b[39m=\u001b[39m [x\u001b[39m*\u001b[39mstep\u001b[39m+\u001b[39mx_min \u001b[39mfor\u001b[39;00m i \u001b[39min\u001b[39;00m \u001b[39mrange\u001b[39m(\u001b[39m0\u001b[39m, \u001b[39mint\u001b[39m((x_max\u001b[39m-\u001b[39mx_min)\u001b[39m/\u001b[39m\u001b[39m/\u001b[39mstep))]\n\u001b[0;32m     <a href='vscode-notebook-cell:/c%3A/Users/amedr/sinus-properties/sine.ipynb#W1sZmlsZQ%3D%3D?line=19'>20</a>\u001b[0m y \u001b[39m=\u001b[39m [sine_wave(amplitude, frequency, phase, time) \u001b[39mfor\u001b[39;00m time \u001b[39min\u001b[39;00m x]\n\u001b[0;32m     <a href='vscode-notebook-cell:/c%3A/Users/amedr/sinus-properties/sine.ipynb#W1sZmlsZQ%3D%3D?line=20'>21</a>\u001b[0m plt\u001b[39m.\u001b[39mplot(x,y)\n",
      "\u001b[1;32mc:\\Users\\amedr\\sinus-properties\\sine.ipynb Cell 2\u001b[0m in \u001b[0;36m<listcomp>\u001b[1;34m(.0)\u001b[0m\n\u001b[0;32m     <a href='vscode-notebook-cell:/c%3A/Users/amedr/sinus-properties/sine.ipynb#W1sZmlsZQ%3D%3D?line=15'>16</a>\u001b[0m step \u001b[39m=\u001b[39m \u001b[39m0.01\u001b[39m\n\u001b[0;32m     <a href='vscode-notebook-cell:/c%3A/Users/amedr/sinus-properties/sine.ipynb#W1sZmlsZQ%3D%3D?line=17'>18</a>\u001b[0m \u001b[39m# x = np.arange(x_min, x_max, step)\u001b[39;00m\n\u001b[1;32m---> <a href='vscode-notebook-cell:/c%3A/Users/amedr/sinus-properties/sine.ipynb#W1sZmlsZQ%3D%3D?line=18'>19</a>\u001b[0m x \u001b[39m=\u001b[39m [x\u001b[39m*\u001b[39mstep\u001b[39m+\u001b[39mx_min \u001b[39mfor\u001b[39;00m i \u001b[39min\u001b[39;00m \u001b[39mrange\u001b[39m(\u001b[39m0\u001b[39m, \u001b[39mint\u001b[39m((x_max\u001b[39m-\u001b[39mx_min)\u001b[39m/\u001b[39m\u001b[39m/\u001b[39mstep))]\n\u001b[0;32m     <a href='vscode-notebook-cell:/c%3A/Users/amedr/sinus-properties/sine.ipynb#W1sZmlsZQ%3D%3D?line=19'>20</a>\u001b[0m y \u001b[39m=\u001b[39m [sine_wave(amplitude, frequency, phase, time) \u001b[39mfor\u001b[39;00m time \u001b[39min\u001b[39;00m x]\n\u001b[0;32m     <a href='vscode-notebook-cell:/c%3A/Users/amedr/sinus-properties/sine.ipynb#W1sZmlsZQ%3D%3D?line=20'>21</a>\u001b[0m plt\u001b[39m.\u001b[39mplot(x,y)\n",
      "\u001b[1;31mNameError\u001b[0m: name 'x' is not defined"
     ]
    }
   ],
   "source": [
    "from math import sin, pi\n",
    "import matplotlib.pyplot as plt\n",
    "from matplotlib.pyplot import figure\n",
    "import numpy as np\n",
    "# if using a jupyter notebook\n",
    "%matplotlib inline\n",
    "\n",
    "def sine_wave(A: float, f: float, phi: float, t: float) -> float:\n",
    "    return A*sin(2*pi*f*t + phi)\n",
    "\n",
    "amplitude = 1.\n",
    "frequency = 1.\n",
    "phase = 0.\n",
    "x_max = 2*pi\n",
    "x_min = 0\n",
    "step = 0.01\n",
    "\n",
    "# x = np.arange(x_min, x_max, step)\n",
    "x = [i*step+x_min for i in range(0, int((x_max-x_min)//step))]\n",
    "y = [sine_wave(amplitude, frequency, phase, time) for time in x]\n",
    "plt.plot(x,y)\n",
    "plt.show()"
   ]
  },
  {
   "cell_type": "markdown",
   "metadata": {},
   "source": [
    "## "
   ]
  },
  {
   "cell_type": "markdown",
   "metadata": {},
   "source": []
  }
 ],
 "metadata": {
  "kernelspec": {
   "display_name": "Python 3.10.4 64-bit",
   "language": "python",
   "name": "python3"
  },
  "language_info": {
   "codemirror_mode": {
    "name": "ipython",
    "version": 3
   },
   "file_extension": ".py",
   "mimetype": "text/x-python",
   "name": "python",
   "nbconvert_exporter": "python",
   "pygments_lexer": "ipython3",
   "version": "3.10.4"
  },
  "orig_nbformat": 4,
  "vscode": {
   "interpreter": {
    "hash": "26de051ba29f2982a8de78e945f0abaf191376122a1563185a90213a26c5da77"
   }
  }
 },
 "nbformat": 4,
 "nbformat_minor": 2
}
